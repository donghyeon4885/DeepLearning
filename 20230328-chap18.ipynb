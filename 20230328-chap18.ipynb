{
 "cells": [
  {
   "cell_type": "markdown",
   "id": "7d92e207",
   "metadata": {},
   "source": [
    "## chap18 시퀀스 배열로 다루는 순환신경망(RNN)"
   ]
  },
  {
   "cell_type": "code",
   "execution_count": 1,
   "id": "cb4c01a9",
   "metadata": {},
   "outputs": [],
   "source": [
    "# 로이터 뉴스 데이터 로드를 함\n",
    "from tensorflow.keras.datasets import reuters\n",
    "\n",
    "# num_words = 1000 -> 단어의 빈도수가 1 ~ 1000 사이의 단어만 가져 옴\n",
    "(x_train, y_train),(x_test, y_test) = reuters.load_data(num_words=1000, \n",
    "                                                        test_split=0.2)"
   ]
  },
  {
   "cell_type": "code",
   "execution_count": 2,
   "id": "081ed629",
   "metadata": {},
   "outputs": [
    {
     "name": "stdout",
     "output_type": "stream",
     "text": [
      "(8982,) (2246,) 11228\n"
     ]
    }
   ],
   "source": [
    "print(x_train.shape, x_test.shape, x_train.shape[0] + x_test.shape[0])"
   ]
  },
  {
   "cell_type": "code",
   "execution_count": 3,
   "id": "5fa87620",
   "metadata": {},
   "outputs": [
    {
     "name": "stdout",
     "output_type": "stream",
     "text": [
      "46\n"
     ]
    }
   ],
   "source": [
    "import numpy as np\n",
    "print(len(np.unique(y_train)))   # 46개의 카테고리 확인"
   ]
  },
  {
   "cell_type": "code",
   "execution_count": 4,
   "id": "d82eed3c",
   "metadata": {},
   "outputs": [],
   "source": [
    "# x_train 학습용 기사, y_train 뉴스의 카테고리 ( 46개 존재 )\n",
    "# 각 기사의 단어 수를 맞추기 위해서 padding\n",
    "from tensorflow.keras.preprocessing import sequence"
   ]
  },
  {
   "cell_type": "code",
   "execution_count": 5,
   "id": "dadc8bc9",
   "metadata": {},
   "outputs": [],
   "source": [
    "x_train = sequence.pad_sequences(x_train, maxlen=100)\n",
    "x_test = sequence.pad_sequences(x_test, maxlen=100)"
   ]
  },
  {
   "cell_type": "code",
   "execution_count": 6,
   "id": "e44e4f8a",
   "metadata": {},
   "outputs": [
    {
     "data": {
      "text/plain": [
       "(8982, 100)"
      ]
     },
     "execution_count": 6,
     "metadata": {},
     "output_type": "execute_result"
    }
   ],
   "source": [
    "x_train.shape"
   ]
  },
  {
   "cell_type": "code",
   "execution_count": 10,
   "id": "27e3ce09",
   "metadata": {},
   "outputs": [
    {
     "data": {
      "text/plain": [
       "(2246,)"
      ]
     },
     "execution_count": 10,
     "metadata": {},
     "output_type": "execute_result"
    }
   ],
   "source": [
    "y_test.shape"
   ]
  },
  {
   "cell_type": "code",
   "execution_count": 7,
   "id": "10fca461",
   "metadata": {},
   "outputs": [
    {
     "data": {
      "text/plain": [
       "(8982, 46)"
      ]
     },
     "execution_count": 7,
     "metadata": {},
     "output_type": "execute_result"
    }
   ],
   "source": [
    "# y_train -> one-hot encoding\n",
    "from tensorflow.keras.utils import to_categorical\n",
    "\n",
    "y = to_categorical(y_train)\n",
    "y.shape"
   ]
  },
  {
   "cell_type": "code",
   "execution_count": 11,
   "id": "84e2d5a4",
   "metadata": {},
   "outputs": [],
   "source": [
    "# 데이터를 가지고 와서  기사마다 단어 수 맞춤 ->  pad_sequences(x_train, maxlen=100)\n",
    "#  모델 설정\n",
    "from tensorflow.keras.models import Sequential\n",
    "from tensorflow.keras.layers import Dense, Embedding, LSTM\n",
    "from tensorflow.keras.callbacks import EarlyStopping\n"
   ]
  },
  {
   "cell_type": "code",
   "execution_count": 12,
   "id": "0a2b5866",
   "metadata": {},
   "outputs": [
    {
     "name": "stdout",
     "output_type": "stream",
     "text": [
      "Model: \"sequential\"\n",
      "_________________________________________________________________\n",
      " Layer (type)                Output Shape              Param #   \n",
      "=================================================================\n",
      " embedding (Embedding)       (None, None, 100)         100000    \n",
      "                                                                 \n",
      " lstm (LSTM)                 (None, 100)               80400     \n",
      "                                                                 \n",
      " dense (Dense)               (None, 46)                4646      \n",
      "                                                                 \n",
      "=================================================================\n",
      "Total params: 185,046\n",
      "Trainable params: 185,046\n",
      "Non-trainable params: 0\n",
      "_________________________________________________________________\n",
      "Epoch 1/200\n",
      "450/450 [==============================] - 51s 105ms/step - loss: 2.2447 - accuracy: 0.4310 - val_loss: 1.9627 - val_accuracy: 0.4871\n",
      "Epoch 2/200\n",
      "450/450 [==============================] - 45s 101ms/step - loss: 1.7900 - accuracy: 0.5431 - val_loss: 1.7858 - val_accuracy: 0.5312\n",
      "Epoch 3/200\n",
      "450/450 [==============================] - 47s 105ms/step - loss: 1.6154 - accuracy: 0.5894 - val_loss: 1.6262 - val_accuracy: 0.5935\n",
      "Epoch 4/200\n",
      "450/450 [==============================] - 43s 95ms/step - loss: 1.3925 - accuracy: 0.6437 - val_loss: 1.4192 - val_accuracy: 0.6385\n",
      "Epoch 5/200\n",
      "450/450 [==============================] - 46s 102ms/step - loss: 1.2362 - accuracy: 0.6877 - val_loss: 1.3208 - val_accuracy: 0.6630\n",
      "Epoch 6/200\n",
      "450/450 [==============================] - 43s 96ms/step - loss: 1.1218 - accuracy: 0.7128 - val_loss: 1.2409 - val_accuracy: 0.6728\n",
      "Epoch 7/200\n",
      "450/450 [==============================] - 59s 131ms/step - loss: 1.0362 - accuracy: 0.7329 - val_loss: 1.1789 - val_accuracy: 0.6910\n",
      "Epoch 8/200\n",
      "450/450 [==============================] - 57s 126ms/step - loss: 0.9450 - accuracy: 0.7633 - val_loss: 1.1404 - val_accuracy: 0.7115\n",
      "Epoch 9/200\n",
      "450/450 [==============================] - 43s 95ms/step - loss: 0.8637 - accuracy: 0.7872 - val_loss: 1.1263 - val_accuracy: 0.7159\n",
      "Epoch 10/200\n",
      "450/450 [==============================] - 52s 116ms/step - loss: 0.7883 - accuracy: 0.8016 - val_loss: 1.1426 - val_accuracy: 0.7164\n",
      "Epoch 11/200\n",
      "450/450 [==============================] - 47s 105ms/step - loss: 0.7326 - accuracy: 0.8170 - val_loss: 1.1076 - val_accuracy: 0.7297\n",
      "Epoch 12/200\n",
      "450/450 [==============================] - 46s 102ms/step - loss: 0.6772 - accuracy: 0.8310 - val_loss: 1.1408 - val_accuracy: 0.7248\n",
      "Epoch 13/200\n",
      "450/450 [==============================] - 41s 90ms/step - loss: 0.6200 - accuracy: 0.8460 - val_loss: 1.1520 - val_accuracy: 0.7333\n",
      "Epoch 14/200\n",
      "450/450 [==============================] - 41s 90ms/step - loss: 0.5681 - accuracy: 0.8569 - val_loss: 1.2244 - val_accuracy: 0.7204\n",
      "Epoch 15/200\n",
      "450/450 [==============================] - 44s 98ms/step - loss: 0.5253 - accuracy: 0.8665 - val_loss: 1.2424 - val_accuracy: 0.7240\n",
      "Epoch 16/200\n",
      "450/450 [==============================] - 51s 114ms/step - loss: 0.4854 - accuracy: 0.8802 - val_loss: 1.2798 - val_accuracy: 0.7208\n"
     ]
    }
   ],
   "source": [
    "model = Sequential()\n",
    "model.add(Embedding(1000, 100))  # 1000, 기사당 단어수 100\n",
    "model.add(LSTM(100, activation='tanh'))  # LSTM 으로 RNN 구현\n",
    "model.add(Dense(46, activation='softmax'))\n",
    "\n",
    "model.summary()\n",
    "\n",
    "model.compile(loss='sparse_categorical_crossentropy', optimizer='adam',\n",
    "             metrics=['accuracy'])\n",
    "\n",
    "early_stopping = EarlyStopping(monitor='val_loss', patience=5)\n",
    "history = model.fit(x_train, y_train, epochs=200, batch_size=20, \n",
    "          validation_data=(x_test, y_test), callbacks=[early_stopping])"
   ]
  },
  {
   "cell_type": "code",
   "execution_count": 13,
   "id": "1723e45a",
   "metadata": {},
   "outputs": [
    {
     "name": "stdout",
     "output_type": "stream",
     "text": [
      "71/71 [==============================] - 3s 42ms/step - loss: 1.2798 - accuracy: 0.7208\n",
      "test 데이터의 정확도 : 0.7208370566368103\n"
     ]
    }
   ],
   "source": [
    "print(\"test 데이터의 정확도 :\",model.evaluate(x_test, y_test)[1])"
   ]
  },
  {
   "cell_type": "code",
   "execution_count": 26,
   "id": "c7415f3a",
   "metadata": {
    "scrolled": true
   },
   "outputs": [
    {
     "data": {
      "text/plain": [
       "{'loss': [2.2067201137542725,\n",
       "  1.7476600408554077,\n",
       "  1.5519293546676636,\n",
       "  1.3552509546279907,\n",
       "  1.2200616598129272,\n",
       "  1.11264169216156,\n",
       "  1.0293524265289307,\n",
       "  0.9405480027198792,\n",
       "  0.8622623682022095,\n",
       "  0.7990326285362244,\n",
       "  0.7337138056755066,\n",
       "  0.6739869713783264,\n",
       "  0.6276662349700928,\n",
       "  0.5756009221076965],\n",
       " 'accuracy': [0.44288578629493713,\n",
       "  0.5490981936454773,\n",
       "  0.6026497483253479,\n",
       "  0.6606546640396118,\n",
       "  0.6952794194221497,\n",
       "  0.7176575660705566,\n",
       "  0.7376976013183594,\n",
       "  0.7580717206001282,\n",
       "  0.7842351198196411,\n",
       "  0.7990425229072571,\n",
       "  0.8127365708351135,\n",
       "  0.8308839797973633,\n",
       "  0.8410153388977051,\n",
       "  0.8552660942077637],\n",
       " 'val_loss': [1.8358148336410522,\n",
       "  1.712289571762085,\n",
       "  1.522882342338562,\n",
       "  1.416891098022461,\n",
       "  1.3061432838439941,\n",
       "  1.2163840532302856,\n",
       "  1.1869338750839233,\n",
       "  1.1542043685913086,\n",
       "  1.139296054840088,\n",
       "  1.1532148122787476,\n",
       "  1.18406081199646,\n",
       "  1.1491150856018066,\n",
       "  1.193375825881958,\n",
       "  1.23442804813385],\n",
       " 'val_accuracy': [0.5253784656524658,\n",
       "  0.5650044679641724,\n",
       "  0.6135351657867432,\n",
       "  0.6500445008277893,\n",
       "  0.6651825308799744,\n",
       "  0.687889575958252,\n",
       "  0.707034707069397,\n",
       "  0.7083704471588135,\n",
       "  0.7181656360626221,\n",
       "  0.7226179838180542,\n",
       "  0.7186108827590942,\n",
       "  0.7235084772109985,\n",
       "  0.7243989109992981,\n",
       "  0.7203918099403381]}"
      ]
     },
     "execution_count": 26,
     "metadata": {},
     "output_type": "execute_result"
    }
   ],
   "source": [
    "#  학습셋과 테스트셋의 오차를 그래프로 확인\n",
    "model.history.history"
   ]
  },
  {
   "cell_type": "code",
   "execution_count": 29,
   "id": "d336908f",
   "metadata": {},
   "outputs": [],
   "source": [
    "y_loss = model.history.history['loss']\n",
    "y_vloss = model.history.history['val_loss']\n",
    "\n",
    "x_len = np.arange(len(y_loss))  # x축 생성"
   ]
  },
  {
   "cell_type": "code",
   "execution_count": 30,
   "id": "11bf0c16",
   "metadata": {},
   "outputs": [
    {
     "data": {
      "image/png": "[encoded data removed]",
      "text/plain": [
       "<Figure size 640x480 with 1 Axes>"
      ]
     },
     "metadata": {},
     "output_type": "display_data"
    }
   ],
   "source": [
    "import matplotlib.pyplot as plt\n",
    "\n",
    "plt.plot(x_len, y_loss, c='red', label='Trainset loss')\n",
    "plt.plot(x_len, y_vloss, c='blue', label='Testset loss')\n",
    "plt.xlabel('epochs')\n",
    "plt.ylabel('loss')\n",
    "plt.legend()\n",
    "plt.show()"
   ]
  },
  {
   "cell_type": "code",
   "execution_count": 14,
   "id": "d10473ca",
   "metadata": {},
   "outputs": [],
   "source": [
    "from tensorflow.keras.preprocessing.text import Tokenizer\n",
    "\n",
    "# test_docs = ['중부 지방은 대체로 맑으나 남부 지방은 구름이 많겠습니다']\n",
    "test_news = ['중부 지방은 대체로 맑으나 남부 지방은 구름이 많겠습니다',\n",
    "            '이번 선거에는 누가 이길 수 있을까?',\n",
    "            ' 올 초부터 유동성의 힘으로 주가가 일정하게 상승']\n",
    "# test_news = ['이번 선거에는 누가 이길 수 있을까?']\n",
    "token = Tokenizer()\n",
    "token.fit_on_texts(test_news)\n",
    "predict_news = token.texts_to_sequences(test_news)"
   ]
  },
  {
   "cell_type": "code",
   "execution_count": 57,
   "id": "cddec495",
   "metadata": {},
   "outputs": [
    {
     "name": "stdout",
     "output_type": "stream",
     "text": [
      "1/1 [==============================] - 0s 23ms/step\n"
     ]
    },
    {
     "data": {
      "text/plain": [
       "[17, 7, 3]"
      ]
     },
     "execution_count": 57,
     "metadata": {},
     "output_type": "execute_result"
    }
   ],
   "source": [
    "[np.argmax(line) for line in model.predict(sequence.pad_sequences(predict_news, \n",
    "                                                                  maxlen=100))]\n",
    "# np.argmax(model.predict(sequence.pad_sequences(predict_news, maxlen=100)))"
   ]
  },
  {
   "cell_type": "code",
   "execution_count": 49,
   "id": "9521a598",
   "metadata": {},
   "outputs": [
    {
     "name": "stdout",
     "output_type": "stream",
     "text": [
      "1/1 [==============================] - 0s 19ms/step\n"
     ]
    },
    {
     "data": {
      "text/plain": [
       "array([[0.01643257, 0.01239647, 0.02080322, 0.01063642, 0.0195509 ,\n",
       "        0.02260877, 0.02535304, 0.02384465, 0.01777424, 0.02874478,\n",
       "        0.01648482, 0.01659784, 0.01030809, 0.02037222, 0.02987692,\n",
       "        0.02623049, 0.01403232, 0.03297979, 0.02922946, 0.0170601 ,\n",
       "        0.01746269, 0.02036864, 0.02524063, 0.01963303, 0.01918731,\n",
       "        0.01780778, 0.02917202, 0.0321043 , 0.02615234, 0.01852456,\n",
       "        0.02826658, 0.02127572, 0.0176887 , 0.0263845 , 0.01922696,\n",
       "        0.02425301, 0.01103274, 0.02314237, 0.01703662, 0.02941443,\n",
       "        0.01767851, 0.01759255, 0.01935421, 0.02304164, 0.03378359,\n",
       "        0.03385751]], dtype=float32)"
      ]
     },
     "execution_count": 49,
     "metadata": {},
     "output_type": "execute_result"
    }
   ],
   "source": [
    "model.predict(sequence.pad_sequences(predict_news, maxlen=100))"
   ]
  },
  {
   "cell_type": "markdown",
   "id": "2f1ae767",
   "metadata": {},
   "source": [
    "## 2 LSTM 과 CNN 의 조합을 이용함 영화 리뷰 분류하기\n"
   ]
  },
  {
   "cell_type": "code",
   "execution_count": 16,
   "id": "223aa7e1",
   "metadata": {},
   "outputs": [
    {
     "name": "stdout",
     "output_type": "stream",
     "text": [
      "25000 25000\n"
     ]
    }
   ],
   "source": [
    "# IMDB (영화 리뷰 ) 데이터셋에서 데이터 가져옴\n",
    "from tensorflow.keras.datasets import imdb\n",
    "from tensorflow.keras.layers import MaxPooling1D, Conv1D, Dropout\n",
    "\n",
    "(x_train, y_train), (x_test, y_test) = imdb.load_data(num_words=5000)\n",
    "print(len(x_train),len(x_test) )"
   ]
  },
  {
   "cell_type": "code",
   "execution_count": 59,
   "id": "8d161ac6",
   "metadata": {},
   "outputs": [],
   "source": [
    "# 단어의 수를 맞춤\n",
    "x_train = sequence.pad_sequences(x_train, maxlen=500)\n",
    "x_test = sequence.pad_sequences(x_test, maxlen=500)"
   ]
  },
  {
   "cell_type": "code",
   "execution_count": 19,
   "id": "0a90ad08",
   "metadata": {},
   "outputs": [
    {
     "name": "stdout",
     "output_type": "stream",
     "text": [
      "Model: \"sequential_3\"\n",
      "_________________________________________________________________\n",
      " Layer (type)                Output Shape              Param #   \n",
      "=================================================================\n",
      " embedding_3 (Embedding)     (None, None, 500)         2500000   \n",
      "                                                                 \n",
      " conv1d_2 (Conv1D)           (None, None, 64)          160064    \n",
      "                                                                 \n",
      " dropout_2 (Dropout)         (None, None, 64)          0         \n",
      "                                                                 \n",
      " max_pooling1d_2 (MaxPooling  (None, None, 64)         0         \n",
      " 1D)                                                             \n",
      "                                                                 \n",
      " lstm_3 (LSTM)               (None, 55)                26400     \n",
      "                                                                 \n",
      " dense_1 (Dense)             (None, 1)                 56        \n",
      "                                                                 \n",
      "=================================================================\n",
      "Total params: 2,686,520\n",
      "Trainable params: 2,686,520\n",
      "Non-trainable params: 0\n",
      "_________________________________________________________________\n"
     ]
    }
   ],
   "source": [
    "# 모델 설정 -> dropout(0.5), conv1d(64, 커널사이즈 4)  추가\n",
    "model = Sequential()\n",
    "model.add(Embedding(5000, 500)) #  단어 임베딩\n",
    "model.add(Conv1D(64, 5, activation='relu'))\n",
    "model.add(Dropout(0.5))\n",
    "model.add(MaxPooling1D(pool_size=4))\n",
    "model.add(LSTM(55))\n",
    "model.add(Dense(1, activation='sigmoid'))\n",
    "model.summary()"
   ]
  },
  {
   "cell_type": "code",
   "execution_count": 63,
   "id": "72e3b420",
   "metadata": {},
   "outputs": [
    {
     "name": "stdout",
     "output_type": "stream",
     "text": [
      "Epoch 1/100\n",
      "938/938 [==============================] - 107s 112ms/step - loss: 0.3765 - accuracy: 0.8301 - val_loss: 0.2809 - val_accuracy: 0.8816\n",
      "Epoch 2/100\n",
      "938/938 [==============================] - 108s 115ms/step - loss: 0.2250 - accuracy: 0.9126 - val_loss: 0.2726 - val_accuracy: 0.8846\n",
      "Epoch 3/100\n",
      "938/938 [==============================] - 108s 115ms/step - loss: 0.1588 - accuracy: 0.9438 - val_loss: 0.3270 - val_accuracy: 0.8787\n",
      "Epoch 4/100\n",
      "938/938 [==============================] - 108s 115ms/step - loss: 0.1124 - accuracy: 0.9601 - val_loss: 0.3675 - val_accuracy: 0.8811\n",
      "Epoch 5/100\n",
      "938/938 [==============================] - 112s 119ms/step - loss: 0.0850 - accuracy: 0.9707 - val_loss: 0.3756 - val_accuracy: 0.8752\n",
      "Epoch 6/100\n",
      "938/938 [==============================] - 115s 123ms/step - loss: 0.0633 - accuracy: 0.9789 - val_loss: 0.4641 - val_accuracy: 0.8674\n",
      "Epoch 7/100\n",
      "938/938 [==============================] - 119s 126ms/step - loss: 0.0474 - accuracy: 0.9838 - val_loss: 0.4931 - val_accuracy: 0.8694\n"
     ]
    }
   ],
   "source": [
    "#  모델 실행 옵션\n",
    "model.compile(loss='binary_crossentropy', optimizer='adam', metrics=['accuracy'])\n",
    "\n",
    "early_stopping = EarlyStopping(patience=3)\n",
    "\n",
    "# 모델 실행\n",
    "history = model.fit(x_train, y_train, batch_size=20, epochs=100, \n",
    "                    validation_split=0.25,\n",
    "                   callbacks=[early_stopping])"
   ]
  },
  {
   "cell_type": "code",
   "execution_count": null,
   "id": "2dc04a03",
   "metadata": {},
   "outputs": [],
   "source": [
    "# 테스트 데이터의 정확도 출력\n",
    "print(\"Test Accuracy : \", model.evaluate(x_test, y_test)[1])"
   ]
  },
  {
   "cell_type": "code",
   "execution_count": 65,
   "id": "6d0d5c70",
   "metadata": {},
   "outputs": [
    {
     "data": {
      "image/png": "[encoded data removed]",
      "text/plain": [
       "<Figure size 640x480 with 1 Axes>"
      ]
     },
     "metadata": {},
     "output_type": "display_data"
    }
   ],
   "source": [
    "#  학습셋과 테스트셋의 오차를 그래프로 확인\n",
    "y_loss = history.history['loss']\n",
    "y_vloss = history.history['val_loss']\n",
    "\n",
    "x_len = np.arange(len(y_loss))\n",
    "plt.plot(x_len, y_loss, c='red', label='train loss')\n",
    "plt.plot(x_len, y_vloss, c='blue', label='valid loss')\n",
    "plt.legend()\n",
    "plt.xlabel('epoch')\n",
    "plt.ylabel('loss')\n",
    "plt.show()"
   ]
  },
  {
   "cell_type": "code",
   "execution_count": null,
   "id": "ade0f5bf",
   "metadata": {},
   "outputs": [],
   "source": [
    "# 자연어 처리를 위한 딥러닝\n",
    "## 데이터 전처리 작업\n",
    "0. 불필요한 단어 또는 문장 제거\n",
    "1. 문장을 단어로 토큰화\n",
    "2. 각 문장을 인덱스의 배열로 변환시킴\n",
    "3. 각 문장을 같은 사이즈로 padding\n",
    "4. 카테고리를 원-핫 인코딩 ( 옵션 )\n",
    "\n",
    "## 모델 설정 및 실행\n",
    "model = Sequential()   # 모델 설정\n",
    "model.add(Embedding(단어 입력수, 압축사이즈))  # 단어 임베딩\n",
    "model.add(Conv1d())         # CNN  추가\n",
    "model.add(Maxpooling1D())   # 맥스풀링\n",
    "model.add(Dropout())        #  과적합 방지를 위한  dropout\n",
    "model.add(LSTM())           # 순서가 있는 자료를 처리하기 위한 RNN 방법\n",
    "model.add(Attention())\n",
    "model.add(Dense(클래수갯수, activation=))\n",
    "\n",
    "model.compile()     # 모델 실행 옵션\n",
    "model.fit(X, y, epochs=,validation_split=, callbacks=[])  #  모델 실행\n",
    "\n",
    "# 테스트 데이터의 정확도 확인\n",
    "model.evaluate(x_test, y_test)\n",
    "\n",
    "# 모델을 사용해서 예측\n",
    "model.predict(예측하고자 하는 자료)   #  클래스별 확률 반환 -> 가장 큰 확률 찾음\n"
   ]
  },
  {
   "cell_type": "code",
   "execution_count": 79,
   "id": "b4b51016",
   "metadata": {},
   "outputs": [
    {
     "name": "stdout",
     "output_type": "stream",
     "text": [
      "Model: \"sequential_13\"\n",
      "_________________________________________________________________\n",
      " Layer (type)                Output Shape              Param #   \n",
      "=================================================================\n",
      " embedding_13 (Embedding)    (None, None, 500)         2500000   \n",
      "                                                                 \n",
      " conv1d_7 (Conv1D)           (None, None, 64)          128064    \n",
      "                                                                 \n",
      " activation (Activation)     (None, None, 64)          0         \n",
      "                                                                 \n",
      " dropout_12 (Dropout)        (None, None, 64)          0         \n",
      "                                                                 \n",
      " max_pooling1d_6 (MaxPooling  (None, None, 64)         0         \n",
      " 1D)                                                             \n",
      "                                                                 \n",
      " lstm_8 (LSTM)               (None, None, 55)          26400     \n",
      "                                                                 \n",
      " attention_4 (Attention)     (None, 128)               17105     \n",
      "                                                                 \n",
      " dropout_13 (Dropout)        (None, 128)               0         \n",
      "                                                                 \n",
      " dense_7 (Dense)             (None, 1)                 129       \n",
      "                                                                 \n",
      "=================================================================\n",
      "Total params: 2,671,698\n",
      "Trainable params: 2,671,698\n",
      "Non-trainable params: 0\n",
      "_________________________________________________________________\n"
     ]
    }
   ],
   "source": [
    "# Attention()  레이어 추가\n",
    "from attention import Attention\n",
    "from tensorflow.keras.layers import Activation\n",
    "\n",
    "# 모델 설정 -> dropout(0.5), conv1d(64, 커널사이즈 4)  추가\n",
    "model = Sequential()\n",
    "model.add(Embedding(5000, 500)) #  단어 임베딩\n",
    "model.add(Conv1D(64, 4))\n",
    "model.add(Activation('relu'))\n",
    "model.add(Dropout(0.5))\n",
    "model.add(MaxPooling1D(pool_size=4))\n",
    "model.add(LSTM(55, return_sequences=True))\n",
    "model.add(Attention())\n",
    "model.add(Dropout(0.5))\n",
    "model.add(Dense(1, activation='sigmoid'))\n",
    "model.summary()"
   ]
  },
  {
   "cell_type": "code",
   "execution_count": 74,
   "id": "bbbfa186",
   "metadata": {},
   "outputs": [
    {
     "name": "stdout",
     "output_type": "stream",
     "text": [
      "Epoch 1/100\n",
      "938/938 [==============================] - 113s 118ms/step - loss: 0.3664 - accuracy: 0.8318 - val_loss: 0.2728 - val_accuracy: 0.8867\n",
      "Epoch 2/100\n",
      "938/938 [==============================] - 111s 118ms/step - loss: 0.2141 - accuracy: 0.9160 - val_loss: 0.2881 - val_accuracy: 0.8776\n",
      "Epoch 3/100\n",
      "938/938 [==============================] - 110s 117ms/step - loss: 0.1477 - accuracy: 0.9461 - val_loss: 0.3075 - val_accuracy: 0.8837\n",
      "Epoch 4/100\n",
      "938/938 [==============================] - 108s 115ms/step - loss: 0.0990 - accuracy: 0.9628 - val_loss: 0.3462 - val_accuracy: 0.8853\n"
     ]
    }
   ],
   "source": [
    "#  모델 실행 옵션\n",
    "model.compile(loss='binary_crossentropy', optimizer='adam', metrics=['accuracy'])\n",
    "\n",
    "early_stopping = EarlyStopping(patience=3)\n",
    "\n",
    "# 모델 실행\n",
    "history = model.fit(x_train, y_train, batch_size=20, epochs=100, \n",
    "                    validation_split=0.25,\n",
    "                   callbacks=[early_stopping])"
   ]
  },
  {
   "cell_type": "code",
   "execution_count": 75,
   "id": "380f9768",
   "metadata": {},
   "outputs": [
    {
     "name": "stdout",
     "output_type": "stream",
     "text": [
      "782/782 [==============================] - 26s 33ms/step - loss: 0.3870 - accuracy: 0.8727\n",
      "Test Accuracy :  0.8726800084114075\n"
     ]
    }
   ],
   "source": [
    "# 테스트 데이터의 정확도 출력\n",
    "print(\"Test Accuracy : \", model.evaluate(x_test, y_test)[1])"
   ]
  },
  {
   "cell_type": "code",
   "execution_count": 77,
   "id": "e53dd161",
   "metadata": {},
   "outputs": [
    {
     "data": {
      "image/png": "[encoded data removed]",
      "text/plain": [
       "<Figure size 640x480 with 1 Axes>"
      ]
     },
     "metadata": {},
     "output_type": "display_data"
    }
   ],
   "source": [
    "#  학습셋과 테스트셋의 오차를 그래프로 확인\n",
    "y_loss = history.history['loss']\n",
    "y_vloss = history.history['val_loss']\n",
    "\n",
    "x_len = np.arange(len(y_loss))\n",
    "plt.plot(x_len, y_loss, c='red', label='train loss')\n",
    "plt.plot(x_len, y_vloss, c='blue', label='valid loss')\n",
    "plt.legend(loc='upper right')\n",
    "plt.xlabel('epoch')\n",
    "plt.ylabel('loss')\n",
    "plt.show()"
   ]
  },
  {
   "cell_type": "code",
   "execution_count": null,
   "id": "36cc86a6",
   "metadata": {},
   "outputs": [],
   "source": []
  }
 ],
 "metadata": {
  "kernelspec": {
   "display_name": "py3.8",
   "language": "python",
   "name": "py3.8"
  },
  "language_info": {
   "codemirror_mode": {
    "name": "ipython",
    "version": 3
   },
   "file_extension": ".py",
   "mimetype": "text/x-python",
   "name": "python",
   "nbconvert_exporter": "python",
   "pygments_lexer": "ipython3",
   "version": "3.8.16"
  }
 },
 "nbformat": 4,
 "nbformat_minor": 5
}
