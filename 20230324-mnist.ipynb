{
 "cells": [
  {
   "cell_type": "code",
   "execution_count": 3,
   "id": "7329a0e9",
   "metadata": {},
   "outputs": [],
   "source": [
    "# %load deep_import.py\n",
    "from tensorflow.keras.models import Sequential\n",
    "from tensorflow.keras.layers import Dense, Flatten\n",
    "from tensorflow.keras.callbacks import EarlyStopping, ModelCheckpoint\n",
    "from tensorflow.keras.utils import to_categorical\n",
    "\n",
    "import matplotlib.pyplot as plt\n",
    "import pandas as pd\n",
    "import numpy as np\n"
   ]
  },
  {
   "cell_type": "code",
   "execution_count": 4,
   "id": "b494fb89",
   "metadata": {},
   "outputs": [],
   "source": [
    "# mnist  자료 가져옴\n",
    "from tensorflow.keras.datasets import mnist"
   ]
  },
  {
   "cell_type": "code",
   "execution_count": 5,
   "id": "da4a58bf",
   "metadata": {},
   "outputs": [],
   "source": [
    "(X_train, y_train), (X_test, y_test) = mnist.load_data()"
   ]
  },
  {
   "cell_type": "code",
   "execution_count": 6,
   "id": "b0a5f78e",
   "metadata": {},
   "outputs": [],
   "source": [
    "X_train = X_train.astype('float64') /255\n",
    "X_test = X_test.astype('float64') /255"
   ]
  },
  {
   "cell_type": "code",
   "execution_count": 7,
   "id": "3f13edab",
   "metadata": {},
   "outputs": [],
   "source": [
    "# 데이터 정규화,  카테고리 데이터 변환\n",
    "# 모델 설계, 모델 실행\n",
    "# 테스트 데이터로 모델 정확도 확인\n",
    "# 검증과 학습 손실함수의 결과를 그래프로 표현"
   ]
  },
  {
   "cell_type": "code",
   "execution_count": 8,
   "id": "70836d9f",
   "metadata": {},
   "outputs": [
    {
     "name": "stdout",
     "output_type": "stream",
     "text": [
      "Model: \"sequential\"\n",
      "_________________________________________________________________\n",
      " Layer (type)                Output Shape              Param #   \n",
      "=================================================================\n",
      " flatten (Flatten)           (None, 784)               0         \n",
      "                                                                 \n",
      " dense (Dense)               (None, 1024)              803840    \n",
      "                                                                 \n",
      " dense_1 (Dense)             (None, 10)                10250     \n",
      "                                                                 \n",
      "=================================================================\n",
      "Total params: 814,090\n",
      "Trainable params: 814,090\n",
      "Non-trainable params: 0\n",
      "_________________________________________________________________\n"
     ]
    }
   ],
   "source": [
    "model = Sequential(Flatten(input_shape=(28, 28)))\n",
    "model.add(Dense(1024,activation='relu'))\n",
    "model.add(Dense(10, activation='softmax'))\n",
    "\n",
    "model.compile(optimizer='adam',\n",
    "              loss='sparse_categorical_crossentropy',\n",
    "              metrics=['accuracy'])\n",
    "model.summary()"
   ]
  },
  {
   "cell_type": "code",
   "execution_count": 13,
   "id": "35e2a9e6",
   "metadata": {},
   "outputs": [
    {
     "ename": "SyntaxError",
     "evalue": "unexpected EOF while parsing (2421085353.py, line 2)",
     "output_type": "error",
     "traceback": [
      "\u001b[1;36m  Cell \u001b[1;32mIn[13], line 2\u001b[1;36m\u001b[0m\n\u001b[1;33m    (Dense(10, activation='softmax'))]\u001b[0m\n\u001b[1;37m                                      ^\u001b[0m\n\u001b[1;31mSyntaxError\u001b[0m\u001b[1;31m:\u001b[0m unexpected EOF while parsing\n"
     ]
    }
   ],
   "source": [
    "model = Sequential([Flatten(input_shape=(28, 28)),Dense(1024,activation='relu'),\n",
    "    (Dense(10, activation='softmax'))]"
   ]
  },
  {
   "cell_type": "code",
   "execution_count": 14,
   "id": "cb9faed1",
   "metadata": {},
   "outputs": [
    {
     "name": "stdout",
     "output_type": "stream",
     "text": [
      "Epoch 1/5\n",
      "1875/1875 [==============================] - 53s 26ms/step - loss: 0.1851 - accuracy: 0.9447\n",
      "Epoch 2/5\n",
      "1875/1875 [==============================] - 50s 27ms/step - loss: 0.0738 - accuracy: 0.9770\n",
      "Epoch 3/5\n",
      "1875/1875 [==============================] - 48s 26ms/step - loss: 0.0485 - accuracy: 0.9844\n",
      "Epoch 4/5\n",
      "1875/1875 [==============================] - 47s 25ms/step - loss: 0.0338 - accuracy: 0.9889\n",
      "Epoch 5/5\n",
      "1875/1875 [==============================] - 51s 27ms/step - loss: 0.0251 - accuracy: 0.9919\n"
     ]
    },
    {
     "data": {
      "text/plain": [
       "<keras.callbacks.History at 0x256391f2e50>"
      ]
     },
     "execution_count": 14,
     "metadata": {},
     "output_type": "execute_result"
    }
   ],
   "source": [
    "model.fit(X_train, y_train, epochs=5)"
   ]
  },
  {
   "cell_type": "code",
   "execution_count": 15,
   "id": "bf202d06",
   "metadata": {},
   "outputs": [
    {
     "name": "stdout",
     "output_type": "stream",
     "text": [
      "313/313 [==============================] - 3s 7ms/step - loss: 0.0753 - accuracy: 0.9783\n",
      "테스트 정확도: 0.9782999753952026\n"
     ]
    }
   ],
   "source": [
    "#  정확도 평가\n",
    "test_loss, test_acc = model.evaluate(X_test, y_test)\n",
    "print('테스트 정확도:', test_acc)"
   ]
  },
  {
   "cell_type": "code",
   "execution_count": 16,
   "id": "77881b59",
   "metadata": {},
   "outputs": [
    {
     "name": "stdout",
     "output_type": "stream",
     "text": [
      "1875/1875 [==============================] - 49s 26ms/step - loss: 0.0223 - accuracy: 0.9927\n",
      "313/313 [==============================] - 2s 8ms/step - loss: 0.0736 - accuracy: 0.9798\n",
      "313/313 [==============================] - 3s 9ms/step - loss: 0.0736 - accuracy: 0.9798\n",
      "1875/1875 [==============================] - 58s 31ms/step - loss: 0.0160 - accuracy: 0.9947\n",
      "313/313 [==============================] - 2s 7ms/step - loss: 0.0859 - accuracy: 0.9788\n",
      "313/313 [==============================] - 2s 7ms/step - loss: 0.0859 - accuracy: 0.9788\n",
      "1875/1875 [==============================] - 63s 34ms/step - loss: 0.0162 - accuracy: 0.9953\n",
      "313/313 [==============================] - 3s 9ms/step - loss: 0.1006 - accuracy: 0.9759\n",
      "313/313 [==============================] - 4s 11ms/step - loss: 0.1006 - accuracy: 0.9759\n",
      "1875/1875 [==============================] - 77s 41ms/step - loss: 0.0136 - accuracy: 0.9954\n",
      "313/313 [==============================] - 4s 10ms/step - loss: 0.0814 - accuracy: 0.9823\n",
      "313/313 [==============================] - 5s 14ms/step - loss: 0.0814 - accuracy: 0.9823\n",
      "1875/1875 [==============================] - 57s 31ms/step - loss: 0.0125 - accuracy: 0.9960\n",
      "313/313 [==============================] - 3s 10ms/step - loss: 0.0878 - accuracy: 0.9812\n",
      "313/313 [==============================] - 2s 7ms/step - loss: 0.0878 - accuracy: 0.9812\n",
      "1875/1875 [==============================] - 59s 32ms/step - loss: 0.0123 - accuracy: 0.9957\n",
      "313/313 [==============================] - 2s 7ms/step - loss: 0.1010 - accuracy: 0.9794\n",
      "313/313 [==============================] - 2s 6ms/step - loss: 0.1010 - accuracy: 0.9794\n",
      "1875/1875 [==============================] - 58s 31ms/step - loss: 0.0095 - accuracy: 0.9968\n",
      "313/313 [==============================] - 4s 11ms/step - loss: 0.0933 - accuracy: 0.9811\n",
      "313/313 [==============================] - 3s 9ms/step - loss: 0.0933 - accuracy: 0.9811\n",
      "1875/1875 [==============================] - 50s 27ms/step - loss: 0.0096 - accuracy: 0.9967\n",
      "313/313 [==============================] - 2s 8ms/step - loss: 0.1024 - accuracy: 0.9803\n",
      "313/313 [==============================] - 3s 8ms/step - loss: 0.1024 - accuracy: 0.9803\n",
      "1875/1875 [==============================] - 55s 29ms/step - loss: 0.0108 - accuracy: 0.9966\n",
      "313/313 [==============================] - 4s 11ms/step - loss: 0.1142 - accuracy: 0.9802\n",
      "313/313 [==============================] - 3s 9ms/step - loss: 0.1142 - accuracy: 0.9802\n",
      "1875/1875 [==============================] - 47s 25ms/step - loss: 0.0075 - accuracy: 0.9976\n",
      "313/313 [==============================] - 2s 7ms/step - loss: 0.0975 - accuracy: 0.9825\n",
      "313/313 [==============================] - 2s 7ms/step - loss: 0.0975 - accuracy: 0.9825\n",
      "[0.9797999858856201, 0.9787999987602234, 0.9758999943733215, 0.9822999835014343, 0.9811999797821045, 0.9793999791145325, 0.9811000227928162, 0.9803000092506409, 0.9801999926567078, 0.9825000166893005]\n"
     ]
    }
   ],
   "source": [
    "loss, accuracy = [], []\n",
    "for i in range(10):\n",
    "    model.fit(X_train, y_train, epochs=1)\n",
    "    loss.append(model.evaluate(X_test, y_test)[0])\n",
    "    accuracy.append(model.evaluate(X_test, y_test)[1])\n",
    "\n",
    "print(accuracy)"
   ]
  },
  {
   "cell_type": "code",
   "execution_count": 17,
   "id": "ff3e61ba",
   "metadata": {},
   "outputs": [
    {
     "data": {
      "image/png": "[encoded data removed]",
      "text/plain": [
       "<Figure size 640x480 with 1 Axes>"
      ]
     },
     "metadata": {},
     "output_type": "display_data"
    }
   ],
   "source": [
    "x_len = np.arange(len(loss))\n",
    "plt.plot(x_len, loss, label='loss')\n",
    "plt.plot(x_len, accuracy, label='accuracy')\n",
    "plt.legend()\n",
    "plt.show()"
   ]
  },
  {
   "cell_type": "code",
   "execution_count": 62,
   "id": "85b691e7",
   "metadata": {},
   "outputs": [
    {
     "name": "stdout",
     "output_type": "stream",
     "text": [
      "Downloading data from https://storage.googleapis.com/tensorflow/tf-keras-datasets/train-labels-idx1-ubyte.gz\n",
      "29515/29515 [==============================] - 0s 0us/step\n",
      "Downloading data from https://storage.googleapis.com/tensorflow/tf-keras-datasets/train-images-idx3-ubyte.gz\n",
      "26421880/26421880 [==============================] - 2s 0us/step\n",
      "Downloading data from https://storage.googleapis.com/tensorflow/tf-keras-datasets/t10k-labels-idx1-ubyte.gz\n",
      "5148/5148 [==============================] - 0s 0s/step\n",
      "Downloading data from https://storage.googleapis.com/tensorflow/tf-keras-datasets/t10k-images-idx3-ubyte.gz\n",
      "4422102/4422102 [==============================] - 0s 0us/step\n"
     ]
    }
   ],
   "source": [
    "# 딥러닝 실행 후 테스트 정확도 결과 확인\n",
    "# 클래스 확인\n",
    "# 0 : T-shirt/top, 1 : Trouser, 2 : Pullover, 3 : Dress, 4 : Coat, 5 : Sandal\n",
    "# 6 : Shirt, 7 : Sneaker, 8 : Bag, 9 : Ankel boot\n",
    "from tensorflow.keras.datasets import fashion_mnist\n",
    "\n",
    "(X_train, y_train), (X_test, y_test) = fashion_mnist.load_data()\n"
   ]
  },
  {
   "cell_type": "code",
   "execution_count": 65,
   "id": "f629c9f8",
   "metadata": {},
   "outputs": [
    {
     "data": {
      "text/plain": [
       "<matplotlib.image.AxesImage at 0x251865ae0a0>"
      ]
     },
     "execution_count": 65,
     "metadata": {},
     "output_type": "execute_result"
    },
    {
     "data": {
      "image/png": "[encoded data removed]",
      "text/plain": [
       "<Figure size 640x480 with 1 Axes>"
      ]
     },
     "metadata": {},
     "output_type": "display_data"
    }
   ],
   "source": [
    "plt.imshow(X_train[1], cmap='Greys')"
   ]
  }
 ],
 "metadata": {
  "kernelspec": {
   "display_name": "py3.8",
   "language": "python",
   "name": "py3.8"
  },
  "language_info": {
   "codemirror_mode": {
    "name": "ipython",
    "version": 3
   },
   "file_extension": ".py",
   "mimetype": "text/x-python",
   "name": "python",
   "nbconvert_exporter": "python",
   "pygments_lexer": "ipython3",
   "version": "3.8.16"
  }
 },
 "nbformat": 4,
 "nbformat_minor": 5
}
