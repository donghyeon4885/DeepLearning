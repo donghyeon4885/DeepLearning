{
 "cells": [
  {
   "cell_type": "code",
   "execution_count": 1,
   "id": "55a3670c",
   "metadata": {},
   "outputs": [],
   "source": [
    "from tensorflow.keras.models import Sequential\n",
    "from tensorflow.keras.layers import Dense\n",
    "import numpy as np"
   ]
  },
  {
   "cell_type": "code",
   "execution_count": 2,
   "id": "5739a1f8",
   "metadata": {},
   "outputs": [],
   "source": [
    "data_set = np.loadtxt(\"./data/ThoraricSurgery3.csv\", delimiter=',')  "
   ]
  },
  {
   "cell_type": "code",
   "execution_count": 3,
   "id": "fa928b9d",
   "metadata": {
    "scrolled": true
   },
   "outputs": [
    {
     "data": {
      "text/plain": [
       "array([[ 1.  ,  2.88,  2.16,  1.  ,  0.  ,  0.  ,  0.  ,  1.  ,  1.  ,\n",
       "         3.  ,  0.  ,  0.  ,  0.  ,  1.  ,  0.  , 60.  ],\n",
       "       [ 2.  ,  3.4 ,  1.88,  0.  ,  0.  ,  0.  ,  0.  ,  0.  ,  0.  ,\n",
       "         1.  ,  0.  ,  0.  ,  0.  ,  1.  ,  0.  , 51.  ],\n",
       "       [ 2.  ,  2.76,  2.08,  1.  ,  0.  ,  0.  ,  0.  ,  1.  ,  0.  ,\n",
       "         0.  ,  0.  ,  0.  ,  0.  ,  1.  ,  0.  , 59.  ],\n",
       "       [ 2.  ,  3.68,  3.04,  0.  ,  0.  ,  0.  ,  0.  ,  0.  ,  0.  ,\n",
       "         0.  ,  0.  ,  0.  ,  0.  ,  0.  ,  0.  , 54.  ],\n",
       "       [ 2.  ,  2.44,  0.96,  2.  ,  0.  ,  1.  ,  0.  ,  1.  ,  1.  ,\n",
       "         0.  ,  0.  ,  0.  ,  0.  ,  1.  ,  0.  , 73.  ],\n",
       "       [ 2.  ,  2.48,  1.88,  1.  ,  0.  ,  0.  ,  0.  ,  1.  ,  0.  ,\n",
       "         0.  ,  0.  ,  0.  ,  0.  ,  0.  ,  0.  , 51.  ],\n",
       "       [ 2.  ,  4.36,  3.28,  1.  ,  0.  ,  0.  ,  0.  ,  1.  ,  0.  ,\n",
       "         1.  ,  1.  ,  0.  ,  0.  ,  1.  ,  0.  , 59.  ],\n",
       "       [ 1.  ,  3.19,  2.5 ,  1.  ,  0.  ,  0.  ,  0.  ,  1.  ,  0.  ,\n",
       "         0.  ,  0.  ,  0.  ,  1.  ,  1.  ,  0.  , 66.  ],\n",
       "       [ 2.  ,  3.16,  2.64,  2.  ,  0.  ,  0.  ,  0.  ,  1.  ,  1.  ,\n",
       "         0.  ,  0.  ,  0.  ,  0.  ,  1.  ,  0.  , 68.  ],\n",
       "       [ 2.  ,  2.32,  2.16,  1.  ,  0.  ,  0.  ,  0.  ,  1.  ,  0.  ,\n",
       "         0.  ,  0.  ,  0.  ,  0.  ,  1.  ,  0.  , 54.  ]])"
      ]
     },
     "execution_count": 3,
     "metadata": {},
     "output_type": "execute_result"
    }
   ],
   "source": [
    "data_set[:10,0:16]"
   ]
  },
  {
   "cell_type": "code",
   "execution_count": 4,
   "id": "afb37081",
   "metadata": {},
   "outputs": [],
   "source": [
    "X = data_set[:,0:16]             # 요소가 16개인 데이터     (환자 상태의 기록)\n",
    "Y = data_set[:,16]               # X의 결과 값 : label      (수술 1년 후 사망/생존 여부)"
   ]
  },
  {
   "cell_type": "code",
   "execution_count": 5,
   "id": "3209d1ee",
   "metadata": {},
   "outputs": [
    {
     "name": "stdout",
     "output_type": "stream",
     "text": [
      "(470, 16)\n",
      "(470,)\n"
     ]
    }
   ],
   "source": [
    "print(X.shape)\n",
    "print(Y.shape)"
   ]
  },
  {
   "cell_type": "code",
   "execution_count": 4,
   "id": "d2fcdb73",
   "metadata": {},
   "outputs": [
    {
     "name": "stdout",
     "output_type": "stream",
     "text": [
      "Model: \"sequential\"\n",
      "_________________________________________________________________\n",
      " Layer (type)                Output Shape              Param #   \n",
      "=================================================================\n",
      " dense (Dense)               (None, 30)                510       \n",
      "                                                                 \n",
      " dense_1 (Dense)             (None, 1)                 31        \n",
      "                                                                 \n",
      "=================================================================\n",
      "Total params: 541\n",
      "Trainable params: 541\n",
      "Non-trainable params: 0\n",
      "_________________________________________________________________\n"
     ]
    }
   ],
   "source": [
    "model = Sequential()           # 모델 생성\n",
    "model.add(Dense(30, input_dim=16, activation='relu'))          # 1층추가-16개의 입력층  \n",
    "model.add(Dense(1, activation='sigmoid'))          # 입력\n",
    "model.summary()"
   ]
  },
  {
   "cell_type": "code",
   "execution_count": 7,
   "id": "2a33f6ed",
   "metadata": {},
   "outputs": [
    {
     "name": "stdout",
     "output_type": "stream",
     "text": [
      "Epoch 1/5\n",
      "30/30 [==============================] - 1s 7ms/step - loss: 0.4500 - accuracy: 0.8511\n",
      "Epoch 2/5\n",
      "30/30 [==============================] - 0s 5ms/step - loss: 0.4253 - accuracy: 0.8511\n",
      "Epoch 3/5\n",
      "30/30 [==============================] - 0s 3ms/step - loss: 0.4227 - accuracy: 0.8511\n",
      "Epoch 4/5\n",
      "30/30 [==============================] - 0s 3ms/step - loss: 0.4229 - accuracy: 0.8511\n",
      "Epoch 5/5\n",
      "30/30 [==============================] - 0s 3ms/step - loss: 0.4175 - accuracy: 0.8511\n"
     ]
    }
   ],
   "source": [
    "model.compile(loss='binary_crossentropy', optimizer='adam', metrics=['accuracy'])\n",
    "history= model.fit(X,Y, epochs=5, batch_size=16)"
   ]
  },
  {
   "cell_type": "code",
   "execution_count": 14,
   "id": "c8801fbd",
   "metadata": {},
   "outputs": [],
   "source": [
    "# 최소제곱법으로 단순선형회귀분석 모델 생성\n",
    "import numpy as np\n",
    "x = np.array([2,4,6,8])\n",
    "y = np.array([81,93,91,97])"
   ]
  },
  {
   "cell_type": "code",
   "execution_count": 15,
   "id": "467b6c71",
   "metadata": {},
   "outputs": [
    {
     "name": "stdout",
     "output_type": "stream",
     "text": [
      "x의 평균값 : 5.0, y의 평균값 : 90.5\n"
     ]
    }
   ],
   "source": [
    "mean_x = np.mean(x) # x의 평균\n",
    "mean_y = np.mean(y) # y의 평균\n",
    "print(f\"x의 평균값 : {mean_x}, y의 평균값 : {mean_y}\")"
   ]
  },
  {
   "cell_type": "code",
   "execution_count": 17,
   "id": "179006b7",
   "metadata": {},
   "outputs": [
    {
     "name": "stdout",
     "output_type": "stream",
     "text": [
      "기울기: 2.3\n"
     ]
    }
   ],
   "source": [
    "# 기울기 공식 -> 합((x-x의 평균)(y-y의 평균)) / 합((x-x의 평균) 제곱)\n",
    "\n",
    "divisor = sum([(i-mean_x)**2 for i in x])\n",
    "\n",
    "top = 0\n",
    "for i in range(len(x)):\n",
    "    top += (x[i] - mean_x) * (y[i] - mean_y)\n",
    "a = top / divisor\n",
    "print('기울기:',a )\n",
    "\n",
    "# 절편 b = y평균 - 기울기(a) * x평균\n",
    "b = mean_y - a*mean_x\n",
    "print('절편 b : ',b)"
   ]
  },
  {
   "cell_type": "code",
   "execution_count": 19,
   "id": "672c2e35",
   "metadata": {},
   "outputs": [
    {
     "name": "stdout",
     "output_type": "stream",
     "text": [
      "[83.6, 88.2, 92.8, 97.4]\n"
     ]
    }
   ],
   "source": [
    "pred_y = [a*i + b for i in x]\n",
    "print(pred_y)"
   ]
  },
  {
   "cell_type": "code",
   "execution_count": 13,
   "id": "b6c7d60a",
   "metadata": {},
   "outputs": [],
   "source": [
    "import matplotlib.pyplot as plt"
   ]
  },
  {
   "cell_type": "code",
   "execution_count": 21,
   "id": "3e30ac17",
   "metadata": {},
   "outputs": [
    {
     "data": {
      "image/png": "[encoded data removed]",
      "text/plain": [
       "<Figure size 500x500 with 1 Axes>"
      ]
     },
     "metadata": {},
     "output_type": "display_data"
    }
   ],
   "source": [
    "plt.figure(figsize=(5,5))\n",
    "\n",
    "plt.plot(x,y, 'o', color ='red', label='acutal value')\n",
    "plt.plot(x,pred_y, 'o', color ='blue', label= 'predict value')\n",
    "plt.legend()\n",
    "plt.show()"
   ]
  },
  {
   "cell_type": "markdown",
   "id": "4a1355aa",
   "metadata": {},
   "source": [
    "# 평균 제곱오차 (MSE) 구하기"
   ]
  },
  {
   "cell_type": "code",
   "execution_count": 26,
   "id": "2758be7f",
   "metadata": {},
   "outputs": [
    {
     "name": "stdout",
     "output_type": "stream",
     "text": [
      "[82, 88, 94, 100]\n"
     ]
    }
   ],
   "source": [
    "# 기울기와 절편에 임의의 초기값 설정\n",
    "fake_a = 3\n",
    "fake_b= 76\n",
    "\n",
    "# 공부 시간과 성적 배열 설정\n",
    "x = np.array([2,4,6,8])\n",
    "y = np.array([81,93,91,97])\n",
    "\n",
    "def predict(x):\n",
    "    return x * fake_a + fake_b\n",
    "\n",
    "predict_result = [predict(i) for i in x]  # 예측값 생성\n",
    "print(predict_result)"
   ]
  },
  {
   "cell_type": "code",
   "execution_count": 28,
   "id": "df8a08c7",
   "metadata": {},
   "outputs": [
    {
     "name": "stdout",
     "output_type": "stream",
     "text": [
      "평균제곱오차 :  11.0\n"
     ]
    }
   ],
   "source": [
    "# 평균 제곱 오차 결과 값 구함\n",
    "mse_result = sum([ (y[i] - predict_result[i]) ** 2 for i in range(len(y))]) / len(y)\n",
    "print('평균제곱오차 : ', mse_result)"
   ]
  },
  {
   "cell_type": "code",
   "execution_count": 32,
   "id": "d6a32b58",
   "metadata": {},
   "outputs": [
    {
     "name": "stdout",
     "output_type": "stream",
     "text": [
      "공부시간 : 2, 실제점수 : 81, 예측점수 :82\n",
      "공부시간 : 4, 실제점수 : 93, 예측점수 :88\n",
      "공부시간 : 6, 실제점수 : 91, 예측점수 :94\n",
      "공부시간 : 8, 실제점수 : 97, 예측점수 :100\n"
     ]
    }
   ],
   "source": [
    "for x_value, y_value, y_predict in zip(x,y, predict_result):\n",
    "    print(\"공부시간 : {}, 실제점수 : {}, 예측점수 :{}\".format(x_value, y_value, y_predict))"
   ]
  },
  {
   "cell_type": "code",
   "execution_count": 47,
   "id": "7ec08041",
   "metadata": {},
   "outputs": [
    {
     "name": "stdout",
     "output_type": "stream",
     "text": [
      "epocs : 0, 기울기 : 27.84, 절편 : 5.43\n",
      "epocs : 100, 기울기 : 7.073858435872394, 절편 : 50.51166161138297\n",
      "epocs : 200, 기울기 : 4.095999380762421, 절편 : 68.28224379060177\n",
      "epocs : 300, 기울기 : 2.9756829100119027, 절편 : 74.96781336233505\n",
      "epocs : 400, 기울기 : 2.5542024233262106, 절편 : 77.48302865233052\n",
      "epocs : 500, 기울기 : 2.3956349066513707, 절편 : 78.42929177728175\n",
      "epocs : 600, 기울기 : 2.3359793398132864, 절편 : 78.78529068727728\n",
      "epocs : 700, 기울기 : 2.313535987420573, 절편 : 78.91922301600925\n",
      "epocs : 800, 기울기 : 2.3050924490666174, 절편 : 78.96961044185792\n",
      "epocs : 900, 기울기 : 2.3019158585694823, 절편 : 78.98856697541248\n",
      "epocs : 1000, 기울기 : 2.3007207758016315, 절편 : 78.99569871827002\n",
      "epocs : 1100, 기울기 : 2.300271167070735, 절편 : 78.99838179089187\n",
      "epocs : 1200, 기울기 : 2.3001020172709508, 절편 : 78.9993912045567\n",
      "epocs : 1300, 기울기 : 2.300038380484562, 절편 : 78.99977096168232\n",
      "epocs : 1400, 기울기 : 2.3000144393354365, 절편 : 78.9999138322214\n",
      "epocs : 1500, 기울기 : 2.3000054323026444, 절편 : 78.99996758234106\n",
      "epocs : 1600, 기울기 : 2.300002043716771, 절편 : 78.99998780397235\n",
      "epocs : 1700, 기울기 : 2.3000007688780433, 절편 : 78.99999541166466\n",
      "epocs : 1800, 기울기 : 2.300000289263884, 절편 : 78.99999827379686\n",
      "epocs : 1900, 기울기 : 2.3000001088255795, 절편 : 78.9999993505755\n",
      "epocs : 2000, 기울기 : 2.3000000409418653, 절편 : 78.99999975567644\n"
     ]
    },
    {
     "data": {
      "image/png": "[encoded data removed]",
      "text/plain": [
       "<Figure size 640x480 with 1 Axes>"
      ]
     },
     "metadata": {},
     "output_type": "display_data"
    }
   ],
   "source": [
    "# 경사하강법으로 a와 b를 검색 : MSE가 최소가 되도록\n",
    "x = np.array([2,4,6,8])\n",
    "y = np.array([81,93,91,97])\n",
    "              \n",
    "a = 0; b = 0 # 기울기와 절편을 0으로 초기화\n",
    "lr = 0.03 # 학습률 설정\n",
    "epochs = 2001 # 2001회 실행\n",
    "n = len(x)\n",
    "#경사하강법 실행\n",
    "for i in range(epochs):\n",
    "    y_pred=a * x + b   # 예측값 구함\n",
    "    error = y - y_pred # 실제값과 예측값 차이 구함\n",
    "    \n",
    "    a_diff = (2/n) * sum(-x*(error))        # a로 편미분\n",
    "    b_diff = (2/n) * sum(-(error))          # b로 편미분\n",
    "    \n",
    "    a = a- lr *a_diff          # 다음에 적용할 a 값 수정\n",
    "    b=  b- lr *b_diff          # 다음에 적용할 b 값 수정\n",
    "              \n",
    "    if i % 100 == 0:\n",
    "        print('epocs : {}, 기울기 : {}, 절편 : {}'.format(i, a, b))\n",
    "\n",
    "# 최종 a 와 b를 적용하여서 y의 예측값 구함\n",
    "y_pred = a *x +b\n",
    "\n",
    "plt.scatter(x,y)\n",
    "plt.plot(x,y_pred,'r')\n",
    "plt.show()"
   ]
  },
  {
   "cell_type": "code",
   "execution_count": 6,
   "id": "361db7eb",
   "metadata": {},
   "outputs": [],
   "source": []
  },
  {
   "cell_type": "code",
   "execution_count": null,
   "id": "62fab054",
   "metadata": {},
   "outputs": [],
   "source": []
  }
 ],
 "metadata": {
  "kernelspec": {
   "display_name": "py3.8",
   "language": "python",
   "name": "py3.8"
  },
  "language_info": {
   "codemirror_mode": {
    "name": "ipython",
    "version": 3
   },
   "file_extension": ".py",
   "mimetype": "text/x-python",
   "name": "python",
   "nbconvert_exporter": "python",
   "pygments_lexer": "ipython3",
   "version": "3.8.16"
  }
 },
 "nbformat": 4,
 "nbformat_minor": 5
}
