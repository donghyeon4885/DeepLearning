{
 "cells": [
  {
   "cell_type": "markdown",
   "id": "c5546dd6",
   "metadata": {},
   "source": [
    "# 이미지 인식의 꽃, 컨볼루션 신경망CNN"
   ]
  },
  {
   "cell_type": "code",
   "execution_count": 1,
   "id": "dafdf1f6",
   "metadata": {},
   "outputs": [],
   "source": [
    "from tensorflow.keras.datasets import mnist\n",
    "\n",
    "(X_train,y_train),(X_test,y_test) = mnist.load_data()"
   ]
  },
  {
   "cell_type": "code",
   "execution_count": 2,
   "id": "67e94376",
   "metadata": {},
   "outputs": [
    {
     "name": "stdout",
     "output_type": "stream",
     "text": [
      "학습용 데이터의 수 : 60000\n",
      "테스트용 데이터의 수 10000\n"
     ]
    }
   ],
   "source": [
    "print('학습용 데이터의 수 :',len(X_train))\n",
    "print('테스트용 데이터의 수',len(X_test))"
   ]
  },
  {
   "cell_type": "code",
   "execution_count": 3,
   "id": "a8b7cb1d",
   "metadata": {},
   "outputs": [
    {
     "data": {
      "image/png": "[encoded data removed]",
      "text/plain": [
       "<Figure size 640x480 with 1 Axes>"
      ]
     },
     "metadata": {},
     "output_type": "display_data"
    }
   ],
   "source": [
    "import matplotlib.pyplot as plt\n",
    "plt.imshow(X_train[12], cmap='Greys')\n",
    "plt.show()"
   ]
  },
  {
   "cell_type": "code",
   "execution_count": 4,
   "id": "9eeca444",
   "metadata": {
    "scrolled": true
   },
   "outputs": [
    {
     "name": "stdout",
     "output_type": "stream",
     "text": [
      "0  0  0  0  0  0  0  0  0  0  0  0  0  0  0  0  0  0  0  0  0  0  0  0  0  0  0  0  \n",
      "0  0  0  0  0  0  0  0  0  0  0  0  0  0  0  0  0  0  0  0  0  0  0  0  0  0  0  0  \n",
      "0  0  0  0  0  0  0  0  0  0  0  0  0  0  0  0  0  0  0  0  0  0  0  0  0  0  0  0  \n",
      "0  0  0  0  0  0  0  0  0  0  0  0  0  0  0  0  0  0  0  0  0  0  0  0  0  0  0  0  \n",
      "0  0  0  0  0  0  0  0  0  0  0  0  0  0  0  0  0  0  0  0  0  0  0  0  0  0  0  0  \n",
      "0  0  0  0  0  0  0  0  0  0  0  0  3  18 18 18 12613617526 1662552471270  0  0  0  \n",
      "0  0  0  0  0  0  0  0  30 36 94 15417025325325325325322517225324219564 0  0  0  0  \n",
      "0  0  0  0  0  0  0  49 23825325325325325325325325325193 82 82 56 39 0  0  0  0  0  \n",
      "0  0  0  0  0  0  0  18 2192532532532532531981822472410  0  0  0  0  0  0  0  0  0  \n",
      "0  0  0  0  0  0  0  0  80 15610725325320511 0  43 1540  0  0  0  0  0  0  0  0  0  \n",
      "0  0  0  0  0  0  0  0  0  14 1  15425390 0  0  0  0  0  0  0  0  0  0  0  0  0  0  \n",
      "0  0  0  0  0  0  0  0  0  0  0  1392531902  0  0  0  0  0  0  0  0  0  0  0  0  0  \n",
      "0  0  0  0  0  0  0  0  0  0  0  11 19025370 0  0  0  0  0  0  0  0  0  0  0  0  0  \n",
      "0  0  0  0  0  0  0  0  0  0  0  0  35 2412251601081  0  0  0  0  0  0  0  0  0  0  \n",
      "0  0  0  0  0  0  0  0  0  0  0  0  0  81 24025325311925 0  0  0  0  0  0  0  0  0  \n",
      "0  0  0  0  0  0  0  0  0  0  0  0  0  0  45 18625325315027 0  0  0  0  0  0  0  0  \n",
      "0  0  0  0  0  0  0  0  0  0  0  0  0  0  0  16 93 2522531870  0  0  0  0  0  0  0  \n",
      "0  0  0  0  0  0  0  0  0  0  0  0  0  0  0  0  0  24925324964 0  0  0  0  0  0  0  \n",
      "0  0  0  0  0  0  0  0  0  0  0  0  0  0  46 1301832532532072  0  0  0  0  0  0  0  \n",
      "0  0  0  0  0  0  0  0  0  0  0  0  39 1482292532532532501820  0  0  0  0  0  0  0  \n",
      "0  0  0  0  0  0  0  0  0  0  24 11422125325325325320178 0  0  0  0  0  0  0  0  0  \n",
      "0  0  0  0  0  0  0  0  23 66 21325325325325319881 2  0  0  0  0  0  0  0  0  0  0  \n",
      "0  0  0  0  0  0  18 17121925325325325319580 9  0  0  0  0  0  0  0  0  0  0  0  0  \n",
      "0  0  0  0  55 17222625325325325324413311 0  0  0  0  0  0  0  0  0  0  0  0  0  0  \n",
      "0  0  0  0  13625325325321213513216 0  0  0  0  0  0  0  0  0  0  0  0  0  0  0  0  \n",
      "0  0  0  0  0  0  0  0  0  0  0  0  0  0  0  0  0  0  0  0  0  0  0  0  0  0  0  0  \n",
      "0  0  0  0  0  0  0  0  0  0  0  0  0  0  0  0  0  0  0  0  0  0  0  0  0  0  0  0  \n",
      "0  0  0  0  0  0  0  0  0  0  0  0  0  0  0  0  0  0  0  0  0  0  0  0  0  0  0  0  \n"
     ]
    }
   ],
   "source": [
    "import sys\n",
    "# 이미지가 컴퓨터에 저장된값을 확인\n",
    "\n",
    "for X in X_train[0]:\n",
    "    for i in X:\n",
    "        sys.stdout.write('%-3s' % i)\n",
    "    sys.stdout.write('\\n')"
   ]
  },
  {
   "cell_type": "code",
   "execution_count": 5,
   "id": "6cde11c9",
   "metadata": {},
   "outputs": [],
   "source": [
    "# 가로 28 * 세로 28 X_train[0]\n",
    "X_train = X_train.reshape(X_train.shape[0],28*28)"
   ]
  },
  {
   "cell_type": "code",
   "execution_count": 6,
   "id": "7472c185",
   "metadata": {},
   "outputs": [
    {
     "name": "stdout",
     "output_type": "stream",
     "text": [
      "변환 후 X_train.shape :  (60000, 784)\n"
     ]
    }
   ],
   "source": [
    "print(\"변환 후 X_train.shape : \", X_train.shape)"
   ]
  },
  {
   "cell_type": "code",
   "execution_count": 7,
   "id": "5e39b92d",
   "metadata": {},
   "outputs": [
    {
     "data": {
      "text/plain": [
       "784"
      ]
     },
     "execution_count": 7,
     "metadata": {},
     "output_type": "execute_result"
    }
   ],
   "source": [
    "X_train.shape[1]"
   ]
  },
  {
   "cell_type": "code",
   "execution_count": 8,
   "id": "627ce688",
   "metadata": {},
   "outputs": [],
   "source": [
    "# 1. 이미지 데이터를 2차원으로 차원연결\n",
    "# 2. 데이터 타임 확인 -> float64로 변경\n",
    "# 3. 데이터를 정규화 -> 값 /255\n",
    "X_train=X_train.reshape(X_train.shape[0],-1)  # 차원변경"
   ]
  },
  {
   "cell_type": "code",
   "execution_count": 9,
   "id": "f6885358",
   "metadata": {},
   "outputs": [
    {
     "name": "stdout",
     "output_type": "stream",
     "text": [
      "uint8\n"
     ]
    }
   ],
   "source": [
    "print(X_train.dtype) # int -> float 로 변경\n",
    "X_train = X_train.astype('float')\n",
    "\n",
    "# 정규화\n",
    "X_train=X_train/255"
   ]
  },
  {
   "cell_type": "code",
   "execution_count": 10,
   "id": "1c209f10",
   "metadata": {},
   "outputs": [],
   "source": [
    "# 위과정을 한번에 실행\n",
    "(X_train, y_train), (X_test,y_test) = mnist.load_data()\n",
    "                       \n",
    "X_train= X_train.reshape(X_train.shape[0],-1).astype('float64') /255\n",
    "X_test =X_test.reshape(X_test.shape[0],-1).astype('float64') /255"
   ]
  },
  {
   "cell_type": "code",
   "execution_count": 11,
   "id": "80597f4e",
   "metadata": {},
   "outputs": [
    {
     "name": "stdout",
     "output_type": "stream",
     "text": [
      "class : 5\n",
      "uint8\n"
     ]
    }
   ],
   "source": [
    "print('class :', y_train[0] )\n",
    "print(y_train.dtype) \n",
    "\n",
    "from tensorflow.keras.utils import to_categorical\n",
    "\n",
    "y_train=to_categorical(y_train,10)\n",
    "y_test=to_categorical(y_test,10)"
   ]
  },
  {
   "cell_type": "code",
   "execution_count": 12,
   "id": "de6c984f",
   "metadata": {},
   "outputs": [
    {
     "data": {
      "text/plain": [
       "(60000, 784)"
      ]
     },
     "execution_count": 12,
     "metadata": {},
     "output_type": "execute_result"
    }
   ],
   "source": [
    "X_train.shape"
   ]
  },
  {
   "cell_type": "code",
   "execution_count": 13,
   "id": "460560f5",
   "metadata": {},
   "outputs": [
    {
     "name": "stdout",
     "output_type": "stream",
     "text": [
      "(47040000,)\n",
      "(6000, 7840)\n",
      "(1680000, 28)\n"
     ]
    }
   ],
   "source": [
    "print(X_train.reshape(-1).shape)\n",
    "print(X_train.reshape(6000,-1).shape)\n",
    "print(X_train.reshape(-1,28).shape)"
   ]
  },
  {
   "cell_type": "markdown",
   "id": "4f3f094d",
   "metadata": {},
   "source": [
    "# 딥러닝 모델 만들기\n"
   ]
  },
  {
   "cell_type": "code",
   "execution_count": 14,
   "id": "f5b2a978",
   "metadata": {},
   "outputs": [],
   "source": [
    "from tensorflow.keras.models import Sequential\n",
    "from tensorflow.keras.layers import Dense\n",
    "from tensorflow.keras.callbacks import EarlyStopping, ModelCheckpoint"
   ]
  },
  {
   "cell_type": "code",
   "execution_count": 15,
   "id": "920631f0",
   "metadata": {},
   "outputs": [
    {
     "data": {
      "text/plain": [
       "784"
      ]
     },
     "execution_count": 15,
     "metadata": {},
     "output_type": "execute_result"
    }
   ],
   "source": [
    "X_train.shape[1]"
   ]
  },
  {
   "cell_type": "code",
   "execution_count": 16,
   "id": "b242ee88",
   "metadata": {},
   "outputs": [
    {
     "data": {
      "text/plain": [
       "<keras.callbacks.History at 0x2a4abd2e580>"
      ]
     },
     "execution_count": 16,
     "metadata": {},
     "output_type": "execute_result"
    }
   ],
   "source": [
    "model=Sequential()\n",
    "model.add(Dense(512, input_dim=X_train.shape[1], activation='relu'))\n",
    "model.add(Dense(10, activation='softmax'))\n",
    "\n",
    "early_stopping=EarlyStopping(patience=5,monitor='val_loss')\n",
    "model.compile(loss='categorical_crossentropy', optimizer='adam', metrics=['accuracy'])\n",
    "model.fit(X_train, y_train, epochs=30, validation_split=0.25, batch_size=200,\n",
    "         verbose=0, callbacks=[early_stopping])"
   ]
  },
  {
   "cell_type": "code",
   "execution_count": 20,
   "id": "e39b88e0",
   "metadata": {},
   "outputs": [
    {
     "data": {
      "text/plain": [
       "(10000, 784)"
      ]
     },
     "execution_count": 20,
     "metadata": {},
     "output_type": "execute_result"
    }
   ],
   "source": [
    "X_test.shape"
   ]
  },
  {
   "cell_type": "code",
   "execution_count": 18,
   "id": "32c72de3",
   "metadata": {},
   "outputs": [
    {
     "data": {
      "text/plain": [
       "{'loss': [0.3409223258495331,\n",
       "  0.1453227698802948,\n",
       "  0.0984099805355072,\n",
       "  0.07160206884145737,\n",
       "  0.053518008440732956,\n",
       "  0.04093163460493088,\n",
       "  0.031246766448020935,\n",
       "  0.02450045384466648,\n",
       "  0.01902790181338787,\n",
       "  0.01468578539788723,\n",
       "  0.011350814253091812,\n",
       "  0.008531576953828335,\n",
       "  0.006728322245180607,\n",
       "  0.0053487238474190235,\n",
       "  0.004017287865281105],\n",
       " 'accuracy': [0.9049777984619141,\n",
       "  0.9583777785301208,\n",
       "  0.9726444482803345,\n",
       "  0.97971111536026,\n",
       "  0.9857333302497864,\n",
       "  0.9895333051681519,\n",
       "  0.9923555850982666,\n",
       "  0.9944444298744202,\n",
       "  0.9959777593612671,\n",
       "  0.99717777967453,\n",
       "  0.9980888962745667,\n",
       "  0.9991111159324646,\n",
       "  0.9992444515228271,\n",
       "  0.9995555281639099,\n",
       "  0.9997777938842773],\n",
       " 'val_loss': [0.18690800666809082,\n",
       "  0.13290753960609436,\n",
       "  0.1165069192647934,\n",
       "  0.10026223212480545,\n",
       "  0.09718643128871918,\n",
       "  0.08990852534770966,\n",
       "  0.08637430518865585,\n",
       "  0.08400490880012512,\n",
       "  0.09004328399896622,\n",
       "  0.08080042898654938,\n",
       "  0.08334732055664062,\n",
       "  0.08269020169973373,\n",
       "  0.08482407033443451,\n",
       "  0.08358407020568848,\n",
       "  0.08461185544729233],\n",
       " 'val_accuracy': [0.9484000205993652,\n",
       "  0.9625333547592163,\n",
       "  0.9661333560943604,\n",
       "  0.9695333242416382,\n",
       "  0.9705333113670349,\n",
       "  0.9733999967575073,\n",
       "  0.9740666747093201,\n",
       "  0.975266695022583,\n",
       "  0.9733333587646484,\n",
       "  0.9768000245094299,\n",
       "  0.9758666753768921,\n",
       "  0.977400004863739,\n",
       "  0.9763333201408386,\n",
       "  0.9769999980926514,\n",
       "  0.9779333472251892]}"
      ]
     },
     "execution_count": 18,
     "metadata": {},
     "output_type": "execute_result"
    }
   ],
   "source": [
    "model.history.history"
   ]
  },
  {
   "cell_type": "code",
   "execution_count": 26,
   "id": "4d2b09a2",
   "metadata": {
    "scrolled": true
   },
   "outputs": [
    {
     "name": "stdout",
     "output_type": "stream",
     "text": [
      "313/313 [==============================] - 2s 5ms/step - loss: 0.0683 - accuracy: 0.9805\n",
      "Test accuracy :  0.9804999828338623\n"
     ]
    }
   ],
   "source": [
    "# 모델의 정확도 측정\n",
    "print('Test accuracy : ',model.evaluate(X_test, y_test)[1])"
   ]
  },
  {
   "cell_type": "code",
   "execution_count": 28,
   "id": "c5451068",
   "metadata": {},
   "outputs": [],
   "source": [
    "# model=Sequential()\n",
    "# model.add(Dense(512, input_dim=X_train.shape[1], activation='relu'))\n",
    "# model.add(Dense(10, activation='softmax'))\n",
    "\n",
    "# early_stopping=EarlyStopping(patience=5)\n",
    "# model.compile(loss='categorical_crossentropy', optimizer='adam', metrics=['accuracy'])\n",
    "# model.fit(X_train, y_train, epochs=30, validation_split=0.25, batch_size=200,\n",
    "#          verbose=0, callbacks=[early_stopping])"
   ]
  },
  {
   "cell_type": "code",
   "execution_count": 21,
   "id": "e307eecb",
   "metadata": {},
   "outputs": [
    {
     "data": {
      "image/png": "[encoded data removed]",
      "text/plain": [
       "<Figure size 640x480 with 1 Axes>"
      ]
     },
     "metadata": {},
     "output_type": "display_data"
    }
   ],
   "source": [
    "# 학습셋과 검증셋의 오차를 그래프로 표현\n",
    "y_vloss=model.history.history['val_loss']\n",
    "y_loss=model.history.history['loss']\n",
    "\n",
    "import numpy as np\n",
    "x_len=np.arange(len(y_loss))\n",
    "plt.plot(x_len, y_vloss, label='test_loss')\n",
    "plt.plot(x_len, y_loss, label='train_loss')\n",
    "plt.legend(loc='upper right')\n",
    "plt.xlabel('epochs')\n",
    "plt.ylabel('error')\n",
    "\n",
    "plt.show()"
   ]
  },
  {
   "cell_type": "code",
   "execution_count": null,
   "id": "618899ab",
   "metadata": {},
   "outputs": [],
   "source": []
  }
 ],
 "metadata": {
  "kernelspec": {
   "display_name": "py3.8",
   "language": "python",
   "name": "py3.8"
  },
  "language_info": {
   "codemirror_mode": {
    "name": "ipython",
    "version": 3
   },
   "file_extension": ".py",
   "mimetype": "text/x-python",
   "name": "python",
   "nbconvert_exporter": "python",
   "pygments_lexer": "ipython3",
   "version": "3.8.16"
  }
 },
 "nbformat": 4,
 "nbformat_minor": 5
}
